{
 "cells": [
  {
   "cell_type": "code",
   "execution_count": 3,
   "metadata": {},
   "outputs": [],
   "source": [
    "import sqlite3, json, random"
   ]
  },
  {
   "cell_type": "code",
   "execution_count": 4,
   "metadata": {},
   "outputs": [],
   "source": [
    "def create_connection(db_file):\n",
    "    conn = None\n",
    "    try:\n",
    "        conn = sqlite3.connect(db_file)\n",
    "        return conn\n",
    "    except sqlite3.Error as e:\n",
    "        print(\"Connection error:\", e)\n",
    "    finally:\n",
    "        return conn"
   ]
  },
  {
   "cell_type": "code",
   "execution_count": 5,
   "metadata": {},
   "outputs": [],
   "source": [
    "def create_table(conn, table, columns):\n",
    "    try:\n",
    "        sql = f'Drop table if exists {table};'\n",
    "        c = conn.cursor()\n",
    "        c.execute(sql)\n",
    "        conn.commit()\n",
    "    except Exception as e:\n",
    "        print('Table drop error:',e)\n",
    "        \n",
    "    try:\n",
    "        sql = f'Create table if not exists {table} ('\n",
    "        for column in columns:\n",
    "            sql += f'{column[0]} {column[1]},'\n",
    "        sql = sql[:-1] # remove trailing comma\n",
    "        sql += ');'\n",
    "        c = conn.cursor()\n",
    "        c.execute(sql)\n",
    "        conn.commit()\n",
    "        print('Table created:', table)\n",
    "    except sqlite3.Error as e:\n",
    "        print(\"Table creation error:\", e)"
   ]
  },
  {
   "cell_type": "code",
   "execution_count": 6,
   "metadata": {},
   "outputs": [],
   "source": [
    "def insert_records(conn, table, columns, values):\n",
    "    try:\n",
    "        c = conn.cursor()\n",
    "        sql = f'INSERT INTO {table} VALUES '\n",
    "        for valset in values:\n",
    "            sql += \"(\"\n",
    "            for val in valset:\n",
    "                if isinstance(val, str): \n",
    "                    val = val.replace(\"'\",\"''\") # escape any single quote entries\n",
    "                sql+= f\"'{val}',\"\n",
    "            sql = sql[:-1] # remove last comma\n",
    "            sql += \"),\"\n",
    "        sql = sql[:-1] + ';' # remove last comma\n",
    "        c.execute(sql)\n",
    "        conn.commit()\n",
    "        print('Inserted',len(values),'values')\n",
    "    except sqlite3.Error as e:\n",
    "        print(\"Record Insertion error:\", e)"
   ]
  },
  {
   "cell_type": "code",
   "execution_count": 7,
   "metadata": {},
   "outputs": [],
   "source": [
    "with open('default_rolltables.json') as f:\n",
    "    rolltables = json.load(f)"
   ]
  },
  {
   "cell_type": "code",
   "execution_count": 8,
   "metadata": {},
   "outputs": [
    {
     "name": "stdout",
     "output_type": "stream",
     "text": [
      "Table created: PlayerRace\n",
      "Inserted 20 values\n",
      "Table created: PlayerPersonality\n",
      "Inserted 20 values\n",
      "Table created: PlayerClass\n",
      "Inserted 12 values\n",
      "Table created: Environment\n",
      "Inserted 12 values\n",
      "Table created: StartArea\n",
      "Inserted 10 values\n",
      "Table created: DungeonType\n",
      "Inserted 10 values\n",
      "Table created: Passage\n",
      "Inserted 10 values\n",
      "Table created: PassageWidth\n",
      "Inserted 9 values\n",
      "Table created: Door\n",
      "Inserted 10 values\n",
      "Table created: DoorBeyond\n",
      "Inserted 5 values\n",
      "Table created: Stair\n",
      "Inserted 14 values\n",
      "Table created: Exit\n",
      "Inserted 5 values\n",
      "Table created: ExitLarge\n",
      "Inserted 7 values\n",
      "Table created: ExitLocation\n",
      "Inserted 4 values\n",
      "Table created: Odor\n",
      "Inserted 14 values\n",
      "Table created: Noise\n",
      "Inserted 58 values\n",
      "Table created: Air\n",
      "Inserted 11 values\n",
      "Table created: Feature\n",
      "Inserted 52 values\n",
      "Table created: Furnish\n",
      "Inserted 88 values\n",
      "Table created: Furnish_Religous\n",
      "Inserted 41 values\n",
      "Table created: Furnish_Mage\n",
      "Inserted 60 values\n",
      "Table created: Furnish_Utensil\n",
      "Inserted 77 values\n",
      "Table created: Container_Contents\n",
      "Inserted 27 values\n",
      "Table created: Book\n",
      "Inserted 50 values\n",
      "Table created: ChamPurpose\n",
      "Inserted 67 values\n",
      "Table created: ChamPurpose_Death\n",
      "Inserted 6 values\n",
      "Table created: ChamPurpose_Lair\n",
      "Inserted 18 values\n",
      "Table created: ChamPurpose_Maze\n",
      "Inserted 9 values\n",
      "Table created: ChamPurpose_Mine\n",
      "Inserted 12 values\n",
      "Table created: ChamPurpose_Vault\n",
      "Inserted 12 values\n",
      "Table created: ChamPurpose_Tomb\n",
      "Inserted 12 values\n",
      "Table created: ChamPurpose_Strong\n",
      "Inserted 29 values\n",
      "Table created: ChamPurpose_Temple\n",
      "Inserted 28 values\n",
      "Table created: ChamPurpose_Gate\n",
      "Inserted 28 values\n",
      "Table created: ChamState\n",
      "Inserted 9 values\n",
      "Table created: ChamHazard\n",
      "Inserted 6 values\n",
      "Table created: ChamObstacle\n",
      "Inserted 12 values\n",
      "Table created: MobMotivation\n",
      "Inserted 8 values\n",
      "Table created: TrapTrigger\n",
      "Inserted 6 values\n",
      "Table created: TrapSeverity\n",
      "Inserted 3 values\n",
      "Table created: TrapEffect\n",
      "Inserted 31 values\n",
      "Table created: TrickObject\n",
      "Inserted 20 values\n",
      "Table created: TrickEffect\n",
      "Inserted 32 values\n",
      "Table created: ChamSize\n",
      "Inserted 12 values\n",
      "Table created: ExitType\n",
      "Inserted 2 values\n",
      "Table created: ChamContents\n",
      "Inserted 14 values\n",
      "Table created: PlayerBackground\n",
      "Inserted 42 values\n",
      "Table created: Mob\n",
      "Inserted 1326 values\n",
      "Table created: MobCR\n",
      "Inserted 34 values\n"
     ]
    }
   ],
   "source": [
    "db = 'rolltables.db'\n",
    "conn = create_connection(db)\n",
    "for rolltable in rolltables:\n",
    "    table = rolltable['table']\n",
    "    columns = rolltable['columns']\n",
    "    values = rolltable['values']\n",
    "    create_table(conn, table, columns)\n",
    "    insert_records(conn, table, columns, values)\n",
    "conn.close()"
   ]
  },
  {
   "cell_type": "code",
   "execution_count": 13,
   "metadata": {},
   "outputs": [],
   "source": [
    "# decrement ID by 1\n",
    "for table in rolltables:\n",
    "    for row in table['values']:\n",
    "        row[0] = row[0]-1"
   ]
  },
  {
   "cell_type": "code",
   "execution_count": 14,
   "metadata": {},
   "outputs": [],
   "source": [
    "with open(\"rolltables_fix.json\", \"w\") as write_file:\n",
    "    json.dump(rolltables, write_file, indent=4)"
   ]
  },
  {
   "cell_type": "markdown",
   "metadata": {},
   "source": [
    "## Radom Select testing"
   ]
  },
  {
   "cell_type": "code",
   "execution_count": 107,
   "metadata": {},
   "outputs": [],
   "source": [
    "def simple_query(sql):\n",
    "    conn = sqlite3.connect('rolltables.db')\n",
    "    c = conn.cursor()\n",
    "    c.execute(sql)\n",
    "    results = c.fetchall()\n",
    "    conn.close()\n",
    "    return results"
   ]
  },
  {
   "cell_type": "code",
   "execution_count": 114,
   "metadata": {},
   "outputs": [
    {
     "name": "stdout",
     "output_type": "stream",
     "text": [
      "0 General\n",
      "1 Lair\n",
      "2 Tomb\n",
      "3 Temple/Shrine\n",
      "4 Stonghold\n",
      "5 Planar Gate\n",
      "6 Mine\n",
      "7 Maze\n",
      "8 Treasure Vault\n",
      "9 Death Trap\n"
     ]
    }
   ],
   "source": [
    "sql = 'Select value from DungeonType;'\n",
    "for item in enumerate(simple_query(sql)):\n",
    "    print(item[0], item[1][0])"
   ]
  },
  {
   "cell_type": "code",
   "execution_count": 97,
   "metadata": {},
   "outputs": [],
   "source": [
    "def roll_query(table, columns):\n",
    "    \n",
    "    roll = random.randint(1,rtable_rows[table])\n",
    "    \n",
    "    if isinstance(columns, str) or columns == '*':\n",
    "        select_cols = columns\n",
    "    else:   \n",
    "        select_cols = ''\n",
    "        for col in columns:\n",
    "            select_cols += col + ','\n",
    "        select_cols = select_cols[:-1]\n",
    "    \n",
    "    sql = f\"Select {select_cols} from (Select rowid, *, sum(weight) over(Order by rowid) rt from {table}) where rt >= {roll} order by rt asc limit 1;\"\n",
    "    conn = sqlite3.connect('rolltables.db')\n",
    "    c = conn.cursor()\n",
    "    c.execute(sql)\n",
    "    results = c.fetchone()\n",
    "    conn.close()\n",
    "    return results"
   ]
  },
  {
   "cell_type": "markdown",
   "metadata": {},
   "source": [
    "### view"
   ]
  },
  {
   "cell_type": "code",
   "execution_count": 10,
   "metadata": {},
   "outputs": [
    {
     "name": "stdout",
     "output_type": "stream",
     "text": [
      "577 µs ± 3.97 µs per loop (mean ± std. dev. of 7 runs, 1000 loops each)\n"
     ]
    }
   ],
   "source": [
    "%%timeit\n",
    "query()"
   ]
  },
  {
   "cell_type": "markdown",
   "metadata": {},
   "source": [
    "### subquery"
   ]
  },
  {
   "cell_type": "code",
   "execution_count": 14,
   "metadata": {},
   "outputs": [
    {
     "name": "stdout",
     "output_type": "stream",
     "text": [
      "571 µs ± 3.08 µs per loop (mean ± std. dev. of 7 runs, 1000 loops each)\n"
     ]
    }
   ],
   "source": [
    "%%timeit\n",
    "query()"
   ]
  },
  {
   "cell_type": "markdown",
   "metadata": {},
   "source": [
    "### Final?"
   ]
  },
  {
   "cell_type": "code",
   "execution_count": 18,
   "metadata": {},
   "outputs": [
    {
     "name": "stdout",
     "output_type": "stream",
     "text": [
      "577 µs ± 3.57 µs per loop (mean ± std. dev. of 7 runs, 1000 loops each)\n"
     ]
    }
   ],
   "source": [
    "%%timeit\n",
    "query('PlayerRace',['value'],29)"
   ]
  },
  {
   "cell_type": "code",
   "execution_count": 47,
   "metadata": {},
   "outputs": [
    {
     "name": "stdout",
     "output_type": "stream",
     "text": [
      "id: 2\n",
      "value: Gnome\n",
      "weight: 2\n"
     ]
    }
   ],
   "source": [
    "r = query('PlayerRace',['rowid','value','weight'],29)\n",
    "print(\"id:\",r[0])\n",
    "print(\"value:\",r[1])\n",
    "print(\"weight:\",r[2])"
   ]
  },
  {
   "cell_type": "code",
   "execution_count": 83,
   "metadata": {},
   "outputs": [],
   "source": [
    "def get_table_metadata():\n",
    "    sql = 'select tbl_name from sqlite_master;'\n",
    "    conn = sqlite3.connect('rolltables.db')\n",
    "    c = conn.cursor()\n",
    "    c.execute(sql)\n",
    "    results = c.fetchall()\n",
    "    rtable_rows={}\n",
    "    for table in results:\n",
    "        tbl_name = table[0]\n",
    "        sql = f\"Select count(1) rows from {tbl_name};\"\n",
    "        c.execute(sql)\n",
    "        cnt = c.fetchone()\n",
    "        rtable_rows[tbl_name] = cnt[0]\n",
    "    conn.close()\n",
    "    return rtable_rows"
   ]
  },
  {
   "cell_type": "code",
   "execution_count": 72,
   "metadata": {},
   "outputs": [
    {
     "name": "stdout",
     "output_type": "stream",
     "text": [
      "254 µs ± 599 ns per loop (mean ± std. dev. of 7 runs, 1000 loops each)\n"
     ]
    }
   ],
   "source": [
    "%%timeit\n",
    "conn = sqlite3.connect('rolltables.db')\n",
    "conn.close()"
   ]
  },
  {
   "cell_type": "markdown",
   "metadata": {},
   "source": [
    "### base metadata"
   ]
  },
  {
   "cell_type": "code",
   "execution_count": 75,
   "metadata": {},
   "outputs": [
    {
     "name": "stdout",
     "output_type": "stream",
     "text": [
      "476 µs ± 2.29 µs per loop (mean ± std. dev. of 7 runs, 1000 loops each)\n"
     ]
    }
   ],
   "source": [
    "%%timeit\n",
    "r = get_table_metadata()"
   ]
  },
  {
   "cell_type": "code",
   "execution_count": 86,
   "metadata": {},
   "outputs": [
    {
     "name": "stdout",
     "output_type": "stream",
     "text": [
      "1.23 ms ± 4.72 µs per loop (mean ± std. dev. of 7 runs, 1000 loops each)\n"
     ]
    }
   ],
   "source": [
    "%%timeit\n",
    "r = get_table_metadata()"
   ]
  },
  {
   "cell_type": "code",
   "execution_count": 84,
   "metadata": {},
   "outputs": [
    {
     "data": {
      "text/plain": [
       "{'PlayerRace': 20,\n",
       " 'PlayerPersonality': 20,\n",
       " 'PlayerClass': 12,\n",
       " 'Environment': 12,\n",
       " 'StartArea': 10,\n",
       " 'DungeonType': 10,\n",
       " 'Passages': 10,\n",
       " 'PassageWidth': 9,\n",
       " 'Door': 10,\n",
       " 'DoorBeyond': 5,\n",
       " 'Stair': 14,\n",
       " 'Exit': 5}"
      ]
     },
     "execution_count": 84,
     "metadata": {},
     "output_type": "execute_result"
    }
   ],
   "source": [
    "rtable_rows = get_table_metadata()\n",
    "rtable_rows"
   ]
  },
  {
   "cell_type": "code",
   "execution_count": 85,
   "metadata": {},
   "outputs": [
    {
     "data": {
      "text/plain": [
       "20"
      ]
     },
     "execution_count": 85,
     "metadata": {},
     "output_type": "execute_result"
    }
   ],
   "source": [
    "rtable_rows['PlayerRace']"
   ]
  },
  {
   "cell_type": "code",
   "execution_count": 106,
   "metadata": {},
   "outputs": [
    {
     "data": {
      "text/plain": [
       "(12,\n",
       " 11,\n",
       " 'Paladin',\n",
       " 1,\n",
       " 'STR',\n",
       " 'CHA',\n",
       " 'Light armor, medium armor, shields, simple weapons, martial weapons',\n",
       " 12)"
      ]
     },
     "execution_count": 106,
     "metadata": {},
     "output_type": "execute_result"
    }
   ],
   "source": [
    "roll_query('PlayerClass','*')"
   ]
  },
  {
   "cell_type": "code",
   "execution_count": 69,
   "metadata": {},
   "outputs": [
    {
     "name": "stdout",
     "output_type": "stream",
     "text": [
      "Select count(1) rows from PlayerRace ;\n",
      "Select count(1) rows from PlayerPersonality ;\n",
      "Select count(1) rows from PlayerClass ;\n",
      "Select count(1) rows from Environment ;\n",
      "Select count(1) rows from StartArea ;\n",
      "Select count(1) rows from DungeonType ;\n",
      "Select count(1) rows from Passages ;\n",
      "Select count(1) rows from PassageWidth ;\n",
      "Select count(1) rows from Door ;\n",
      "Select count(1) rows from DoorBeyond ;\n",
      "Select count(1) rows from Stair ;\n",
      "Select count(1) rows from Exit ;\n"
     ]
    }
   ],
   "source": [
    "r = get_table_metadata()\n",
    "roll_tables={}\n",
    "for table in r:\n",
    "    tbl_name = table[0]\n",
    "    sql = f\"Select count(1) rows from {tbl_name};\"\n",
    "    "
   ]
  },
  {
   "cell_type": "code",
   "execution_count": 188,
   "metadata": {},
   "outputs": [
    {
     "name": "stdout",
     "output_type": "stream",
     "text": [
      "8402\n"
     ]
    }
   ],
   "source": [
    "r =''\n",
    "i = 0\n",
    "while r != 'Goliath' or i >10000:\n",
    "    i+=1\n",
    "    results = query('PlayerRace')\n",
    "    r = results[1]\n",
    "print(i)"
   ]
  },
  {
   "cell_type": "markdown",
   "metadata": {},
   "source": [
    "## Random select but in python"
   ]
  },
  {
   "cell_type": "code",
   "execution_count": 24,
   "metadata": {},
   "outputs": [],
   "source": [
    "import pandas as pd\n",
    "from random import randint"
   ]
  },
  {
   "cell_type": "code",
   "execution_count": 26,
   "metadata": {},
   "outputs": [
    {
     "name": "stdout",
     "output_type": "stream",
     "text": [
      "1\n"
     ]
    },
    {
     "data": {
      "text/plain": [
       "0    True\n",
       "1    True\n",
       "2    True\n",
       "3    True\n",
       "4    True\n",
       "Name: weight, dtype: bool"
      ]
     },
     "execution_count": 26,
     "metadata": {},
     "output_type": "execute_result"
    }
   ],
   "source": [
    "db = 'rolltables.db'\n",
    "conn = create_connection(db)\n",
    "sql = 'Select value, weight from exit;'\n",
    "df = pd.read_sql(sql, conn)\n",
    "roll = randint(1,len(df))\n",
    "print(roll)\n",
    "df['weight'].cumsum() <= roll"
   ]
  },
  {
   "cell_type": "markdown",
   "metadata": {},
   "source": [
    "## List of tables"
   ]
  },
  {
   "cell_type": "code",
   "execution_count": null,
   "metadata": {},
   "outputs": [],
   "source": [
    "single_value_table_names = [\n",
    "    'PlayerRace'\n",
    "    ,'PlayerPersonality' \n",
    "    ,'PassageWidth'\n",
    "    ,'Door'\n",
    "    ,'Stair'\n",
    "    ,'Environment'\n",
    "    ,'ChamberExits'\n",
    "    ,'ChamberExitsLarge'\n",
    "    ,'ChamberExitLocation'\n",
    "    ,'ChamberState'\n",
    "    ,'ChamberPurpose'\n",
    "    ,'ChamberPurposeDeath'\n",
    "    ,'ChamberPurposeLair'\n",
    "    ,'ChamberPurposeMaze'\n",
    "    ,'ChamberPurposeMine'\n",
    "    ,'ChamberPurposeTreasure'\n",
    "    ,'ChamberPurposeTomb'\n",
    "    ,'ChamberPurposeStrong'\n",
    "    ,'ChamberPurposeTemple'\n",
    "    ,'ChamberPurposeGate'\n",
    "    ,'ChamberPurpose'\n",
    "    ,'ChamberHazard'\n",
    "    ,'ChamberObstacle'\n",
    "    ,'TrapSeverity'\n",
    "    ,'TrapTrigger'\n",
    "    ,'TrapEffect'\n",
    "    ,'TrickObject'\n",
    "    ,'TrickEffect'\n",
    "    ,'MonsterMotivation'\n",
    "    \n",
    "]"
   ]
  },
  {
   "cell_type": "code",
   "execution_count": 1,
   "metadata": {},
   "outputs": [],
   "source": [
    "Multi_value_tables = [\n",
    "    {'PlayerClass': ['Value','PrimaryStat','SecondaryStat','Proficencies']},\n",
    "    {'Background': ['Value','Skills','Languages','Tools','Source','Page']},\n",
    "    {'StartArea': ['Value','Passages','Doors']},\n",
    "    {'Passage': ['Value','Chamber','Stair','Door','Passage']},\n",
    "    {'DoorBeyond': ['Value','Chamber','Stair']},\n",
    "    {'ChamberSize': ['Value','Large']},\n",
    "    {'ExitType': ['Value','Door']},\n",
    "    {'ChamberContents': ['Value','Type','Level']},\n",
    "    {'Monster': ['Name','Environment','Size','Type','Tags','Alignment','Challenge','XP','Source','Page']},\n",
    "]"
   ]
  },
  {
   "cell_type": "markdown",
   "metadata": {},
   "source": [
    "## Weighted simulation testing"
   ]
  },
  {
   "cell_type": "code",
   "execution_count": 15,
   "metadata": {},
   "outputs": [],
   "source": [
    "import random"
   ]
  },
  {
   "cell_type": "code",
   "execution_count": 153,
   "metadata": {},
   "outputs": [],
   "source": [
    "def one_round(dic):\n",
    "    winner = [\"None\",0]\n",
    "    for k, v in dic.items():\n",
    "        val = random.random()*v\n",
    "        if val > winner[1]:\n",
    "            winner[0] = k\n",
    "            winner[1] = val\n",
    "    return winner[0]\n",
    "\n",
    "def simulation(rounds=100):\n",
    "    i=1\n",
    "    roll_table = {\n",
    "        \"5ft\":2,\n",
    "        \"10ft\":10,\n",
    "        \"20ft\":2,\n",
    "        \"30ft\":2,\n",
    "        \"40a\":1,\n",
    "        \"40b\":1,\n",
    "        \"40c\":1,\n",
    "        \"40d\":1,\n",
    "        }\n",
    "    winner_list = dict.fromkeys(roll_table, 0)\n",
    "\n",
    "    for i in range(rounds):\n",
    "        winner_list[one_round(roll_table)]+=1\n",
    "    print(winner_list)"
   ]
  },
  {
   "cell_type": "code",
   "execution_count": 154,
   "metadata": {},
   "outputs": [
    {
     "name": "stdout",
     "output_type": "stream",
     "text": [
      "{'5ft': 7, '10ft': 82, '20ft': 5, '30ft': 6, '40a': 0, '40b': 0, '40c': 0, '40d': 0}\n",
      "{'5ft': 6, '10ft': 85, '20ft': 4, '30ft': 4, '40a': 0, '40b': 1, '40c': 0, '40d': 0}\n",
      "{'5ft': 8, '10ft': 85, '20ft': 3, '30ft': 4, '40a': 0, '40b': 0, '40c': 0, '40d': 0}\n",
      "{'5ft': 3, '10ft': 87, '20ft': 2, '30ft': 7, '40a': 0, '40b': 1, '40c': 0, '40d': 0}\n",
      "{'5ft': 4, '10ft': 89, '20ft': 6, '30ft': 1, '40a': 0, '40b': 0, '40c': 0, '40d': 0}\n",
      "{'5ft': 2, '10ft': 90, '20ft': 5, '30ft': 3, '40a': 0, '40b': 0, '40c': 0, '40d': 0}\n",
      "{'5ft': 6, '10ft': 81, '20ft': 6, '30ft': 6, '40a': 0, '40b': 0, '40c': 1, '40d': 0}\n",
      "{'5ft': 5, '10ft': 83, '20ft': 6, '30ft': 4, '40a': 1, '40b': 0, '40c': 0, '40d': 1}\n",
      "{'5ft': 5, '10ft': 83, '20ft': 4, '30ft': 7, '40a': 1, '40b': 0, '40c': 0, '40d': 0}\n",
      "{'5ft': 3, '10ft': 85, '20ft': 6, '30ft': 6, '40a': 0, '40b': 0, '40c': 0, '40d': 0}\n",
      "{'5ft': 7, '10ft': 88, '20ft': 2, '30ft': 2, '40a': 1, '40b': 0, '40c': 0, '40d': 0}\n",
      "{'5ft': 5, '10ft': 87, '20ft': 5, '30ft': 3, '40a': 0, '40b': 0, '40c': 0, '40d': 0}\n",
      "{'5ft': 4, '10ft': 83, '20ft': 5, '30ft': 6, '40a': 0, '40b': 0, '40c': 0, '40d': 2}\n",
      "{'5ft': 2, '10ft': 87, '20ft': 5, '30ft': 5, '40a': 0, '40b': 1, '40c': 0, '40d': 0}\n",
      "{'5ft': 6, '10ft': 86, '20ft': 2, '30ft': 5, '40a': 0, '40b': 0, '40c': 1, '40d': 0}\n",
      "{'5ft': 7, '10ft': 84, '20ft': 3, '30ft': 6, '40a': 0, '40b': 0, '40c': 0, '40d': 0}\n",
      "{'5ft': 7, '10ft': 83, '20ft': 5, '30ft': 5, '40a': 0, '40b': 0, '40c': 0, '40d': 0}\n",
      "{'5ft': 1, '10ft': 90, '20ft': 4, '30ft': 5, '40a': 0, '40b': 0, '40c': 0, '40d': 0}\n",
      "{'5ft': 7, '10ft': 89, '20ft': 1, '30ft': 3, '40a': 0, '40b': 0, '40c': 0, '40d': 0}\n",
      "{'5ft': 5, '10ft': 82, '20ft': 7, '30ft': 4, '40a': 1, '40b': 0, '40c': 0, '40d': 1}\n"
     ]
    }
   ],
   "source": [
    "for i in range(20):\n",
    "    simulation()"
   ]
  },
  {
   "cell_type": "code",
   "execution_count": 1,
   "metadata": {},
   "outputs": [
    {
     "data": {
      "text/plain": [
       "'txt_something'"
      ]
     },
     "execution_count": 1,
     "metadata": {},
     "output_type": "execute_result"
    }
   ],
   "source": [
    "test = 'lck_something'\n",
    "test.replace(\"lck\",'txt')"
   ]
  },
  {
   "cell_type": "code",
   "execution_count": 17,
   "metadata": {},
   "outputs": [
    {
     "data": {
      "text/plain": [
       "['thing1', 'thing3']"
      ]
     },
     "execution_count": 17,
     "metadata": {},
     "output_type": "execute_result"
    }
   ],
   "source": [
    "ls = ['thing1','thing2','thing3','thing4']\n",
    "ls2 = ['thing2','thing4']\n",
    "l3 = [x for x in ls if x not in ls2]\n",
    "l3"
   ]
  },
  {
   "cell_type": "code",
   "execution_count": 12,
   "metadata": {},
   "outputs": [
    {
     "data": {
      "text/plain": [
       "'t'"
      ]
     },
     "execution_count": 12,
     "metadata": {},
     "output_type": "execute_result"
    }
   ],
   "source": [
    "test = 'btn_rrt_Furnish'\n",
    "test[6]"
   ]
  },
  {
   "cell_type": "code",
   "execution_count": null,
   "metadata": {},
   "outputs": [],
   "source": []
  }
 ],
 "metadata": {
  "kernelspec": {
   "display_name": "Python 3",
   "language": "python",
   "name": "python3"
  },
  "language_info": {
   "codemirror_mode": {
    "name": "ipython",
    "version": 3
   },
   "file_extension": ".py",
   "mimetype": "text/x-python",
   "name": "python",
   "nbconvert_exporter": "python",
   "pygments_lexer": "ipython3",
   "version": "3.8.3"
  }
 },
 "nbformat": 4,
 "nbformat_minor": 4
}
