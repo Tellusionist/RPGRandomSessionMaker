{
 "cells": [
  {
   "cell_type": "code",
   "execution_count": 1,
   "metadata": {},
   "outputs": [],
   "source": [
    "import sqlite3, json"
   ]
  },
  {
   "cell_type": "code",
   "execution_count": 2,
   "metadata": {},
   "outputs": [],
   "source": [
    "def create_connection(db_file):\n",
    "    conn = None\n",
    "    try:\n",
    "        conn = sqlite3.connect(db_file)\n",
    "        return conn\n",
    "    except sqlite3.Error as e:\n",
    "        print(\"Connection error:\", e)\n",
    "    finally:\n",
    "        return conn"
   ]
  },
  {
   "cell_type": "code",
   "execution_count": 3,
   "metadata": {},
   "outputs": [],
   "source": [
    "def create_table(conn, table, columns):\n",
    "    try:\n",
    "        sql = f'Drop table if exists {table};'\n",
    "        c = conn.cursor()\n",
    "        c.execute(sql)\n",
    "        conn.commit()\n",
    "    except Exception as e:\n",
    "        print('Table drop error:',e)\n",
    "        \n",
    "    try:\n",
    "        sql = f'Create table if not exists {table} ('\n",
    "        for column in columns:\n",
    "            sql += f'{column[0]} {column[1]},'\n",
    "        sql = sql[:-1] # remove trailing comma\n",
    "        sql += ');'\n",
    "        c = conn.cursor()\n",
    "        c.execute(sql)\n",
    "        conn.commit()\n",
    "        print('Table created:', table)\n",
    "    except sqlite3.Error as e:\n",
    "        print(\"Table creation error:\", e)"
   ]
  },
  {
   "cell_type": "code",
   "execution_count": 19,
   "metadata": {},
   "outputs": [],
   "source": [
    "def insert_records(conn, table, columns, values):\n",
    "    try:\n",
    "        c = conn.cursor()\n",
    "        sql = f'INSERT INTO {table} VALUES '\n",
    "        for valset in values:\n",
    "            sql += \"(\"\n",
    "            for val in valset:\n",
    "                if isinstance(val, str): \n",
    "                    val = val.replace(\"'\",\"''\") # escape any single quote entries\n",
    "                sql+= f\"'{val}',\"\n",
    "            sql = sql[:-1] # remove last comma\n",
    "            sql += \"),\"\n",
    "        sql = sql[:-1] + ';' # remove last comma\n",
    "        c.execute(sql)\n",
    "        conn.commit()\n",
    "        print('Inserted',len(values),'values')\n",
    "    except sqlite3.Error as e:\n",
    "        print(\"Record Insertion error:\", e)"
   ]
  },
  {
   "cell_type": "code",
   "execution_count": 189,
   "metadata": {},
   "outputs": [],
   "source": [
    "with open('./assets/default_rolltables.json') as f:\n",
    "    rolltables = json.load(f)"
   ]
  },
  {
   "cell_type": "code",
   "execution_count": 190,
   "metadata": {},
   "outputs": [
    {
     "name": "stdout",
     "output_type": "stream",
     "text": [
      "Table created: PlayerRace\n",
      "Inserted 20 values\n",
      "Table created: PlayerPersonality\n",
      "Inserted 20 values\n",
      "Table created: PlayerClass\n",
      "Inserted 12 values\n",
      "Table created: Environment\n",
      "Inserted 12 values\n",
      "Table created: StartArea\n",
      "Inserted 10 values\n",
      "Table created: DungeonType\n",
      "Inserted 10 values\n",
      "Table created: Passages\n",
      "Inserted 10 values\n",
      "Table created: PassageWidth\n",
      "Inserted 9 values\n",
      "Table created: Door\n",
      "Inserted 10 values\n",
      "Table created: DoorBeyond\n",
      "Inserted 5 values\n",
      "Table created: Stair\n",
      "Inserted 14 values\n"
     ]
    }
   ],
   "source": [
    "db = 'rolltables.db'\n",
    "conn = create_connection(db)\n",
    "for rolltable in rolltables:\n",
    "    table = rolltable['table']\n",
    "    columns = rolltable['columns']\n",
    "    values = rolltable['values']\n",
    "    create_table(conn, table, columns)\n",
    "    insert_records(conn, table, columns, values)\n",
    "conn.close()"
   ]
  },
  {
   "cell_type": "markdown",
   "metadata": {},
   "source": [
    "## Radom Select testing"
   ]
  },
  {
   "cell_type": "code",
   "execution_count": 63,
   "metadata": {},
   "outputs": [],
   "source": [
    "def query(table, columns=['id','value']):\n",
    "    sql = 'Select '\n",
    "    for col in columns:\n",
    "        sql += col + \", \"\n",
    "    sql = sql[:-2]\n",
    "    sql += f' from {table} order by wieght * round(abs(random()/92233720368547758.07),3)/100 DESC LIMIT 1;'\n",
    "    conn = sqlite3.connect('rolltables.db')\n",
    "    c = conn.cursor()\n",
    "    c.execute(sql)\n",
    "    results = c.fetchone()\n",
    "    conn.close()\n",
    "    return results\n",
    "    "
   ]
  },
  {
   "cell_type": "code",
   "execution_count": 188,
   "metadata": {},
   "outputs": [
    {
     "name": "stdout",
     "output_type": "stream",
     "text": [
      "8402\n"
     ]
    }
   ],
   "source": [
    "r =''\n",
    "i = 0\n",
    "while r != 'Goliath' or i >10000:\n",
    "    i+=1\n",
    "    results = query('PlayerRace')\n",
    "    r = results[1]\n",
    "print(i)"
   ]
  },
  {
   "cell_type": "markdown",
   "metadata": {},
   "source": [
    "## List of tables"
   ]
  },
  {
   "cell_type": "code",
   "execution_count": null,
   "metadata": {},
   "outputs": [],
   "source": [
    "single_value_table_names = [\n",
    "    'PlayerRace'\n",
    "    ,'PlayerPersonality' \n",
    "    ,'PassageWidth'\n",
    "    ,'Door'\n",
    "    ,'Stair'\n",
    "    ,'Environment'\n",
    "    ,'ChamberExits'\n",
    "    ,'ChamberExitsLarge'\n",
    "    ,'ChamberExitLocation'\n",
    "    ,'ChamberState'\n",
    "    ,'ChamberPurpose'\n",
    "    ,'ChamberPurposeDeath'\n",
    "    ,'ChamberPurposeLair'\n",
    "    ,'ChamberPurposeMaze'\n",
    "    ,'ChamberPurposeMine'\n",
    "    ,'ChamberPurposeTreasure'\n",
    "    ,'ChamberPurposeTomb'\n",
    "    ,'ChamberPurposeStrong'\n",
    "    ,'ChamberPurposeTemple'\n",
    "    ,'ChamberPurposeGate'\n",
    "    ,'ChamberPurpose'\n",
    "    ,'ChamberHazard'\n",
    "    ,'ChamberObstacle'\n",
    "    ,'TrapSeverity'\n",
    "    ,'TrapTrigger'\n",
    "    ,'TrapEffect'\n",
    "    ,'TrickObject'\n",
    "    ,'TrickEffect'\n",
    "    ,'MonsterMotivation'\n",
    "    \n",
    "]"
   ]
  },
  {
   "cell_type": "code",
   "execution_count": 1,
   "metadata": {},
   "outputs": [],
   "source": [
    "Multi_value_tables = [\n",
    "    {'PlayerClass': ['Value','PrimaryStat','SecondaryStat','Proficencies']},\n",
    "    {'Background': ['Value','Skills','Languages','Tools','Source','Page']},\n",
    "    {'StartArea': ['Value','Passages','Doors']},\n",
    "    {'Passage': ['Value','Chamber','Stair','Door','Passage']},\n",
    "    {'DoorBeyond': ['Value','Chamber','Stair']},\n",
    "    {'ChamberSize': ['Value','Large']},\n",
    "    {'ExitType': ['Value','Door']},\n",
    "    {'ChamberContents': ['Value','Type','Level']},\n",
    "    {'Monster': ['Name','Environment','Size','Type','Tags','Alignment','Challenge','XP','Source','Page']},\n",
    "]"
   ]
  },
  {
   "cell_type": "markdown",
   "metadata": {},
   "source": [
    "## Weighted simulation testing"
   ]
  },
  {
   "cell_type": "code",
   "execution_count": 15,
   "metadata": {},
   "outputs": [],
   "source": [
    "import random"
   ]
  },
  {
   "cell_type": "code",
   "execution_count": 153,
   "metadata": {},
   "outputs": [],
   "source": [
    "def one_round(dic):\n",
    "    winner = [\"None\",0]\n",
    "    for k, v in dic.items():\n",
    "        val = random.random()*v\n",
    "        if val > winner[1]:\n",
    "            winner[0] = k\n",
    "            winner[1] = val\n",
    "    return winner[0]\n",
    "\n",
    "def simulation(rounds=100):\n",
    "    i=1\n",
    "    roll_table = {\n",
    "        \"5ft\":2,\n",
    "        \"10ft\":10,\n",
    "        \"20ft\":2,\n",
    "        \"30ft\":2,\n",
    "        \"40a\":1,\n",
    "        \"40b\":1,\n",
    "        \"40c\":1,\n",
    "        \"40d\":1,\n",
    "        }\n",
    "    winner_list = dict.fromkeys(roll_table, 0)\n",
    "\n",
    "    for i in range(rounds):\n",
    "        winner_list[one_round(roll_table)]+=1\n",
    "    print(winner_list)"
   ]
  },
  {
   "cell_type": "code",
   "execution_count": 154,
   "metadata": {},
   "outputs": [
    {
     "name": "stdout",
     "output_type": "stream",
     "text": [
      "{'5ft': 7, '10ft': 82, '20ft': 5, '30ft': 6, '40a': 0, '40b': 0, '40c': 0, '40d': 0}\n",
      "{'5ft': 6, '10ft': 85, '20ft': 4, '30ft': 4, '40a': 0, '40b': 1, '40c': 0, '40d': 0}\n",
      "{'5ft': 8, '10ft': 85, '20ft': 3, '30ft': 4, '40a': 0, '40b': 0, '40c': 0, '40d': 0}\n",
      "{'5ft': 3, '10ft': 87, '20ft': 2, '30ft': 7, '40a': 0, '40b': 1, '40c': 0, '40d': 0}\n",
      "{'5ft': 4, '10ft': 89, '20ft': 6, '30ft': 1, '40a': 0, '40b': 0, '40c': 0, '40d': 0}\n",
      "{'5ft': 2, '10ft': 90, '20ft': 5, '30ft': 3, '40a': 0, '40b': 0, '40c': 0, '40d': 0}\n",
      "{'5ft': 6, '10ft': 81, '20ft': 6, '30ft': 6, '40a': 0, '40b': 0, '40c': 1, '40d': 0}\n",
      "{'5ft': 5, '10ft': 83, '20ft': 6, '30ft': 4, '40a': 1, '40b': 0, '40c': 0, '40d': 1}\n",
      "{'5ft': 5, '10ft': 83, '20ft': 4, '30ft': 7, '40a': 1, '40b': 0, '40c': 0, '40d': 0}\n",
      "{'5ft': 3, '10ft': 85, '20ft': 6, '30ft': 6, '40a': 0, '40b': 0, '40c': 0, '40d': 0}\n",
      "{'5ft': 7, '10ft': 88, '20ft': 2, '30ft': 2, '40a': 1, '40b': 0, '40c': 0, '40d': 0}\n",
      "{'5ft': 5, '10ft': 87, '20ft': 5, '30ft': 3, '40a': 0, '40b': 0, '40c': 0, '40d': 0}\n",
      "{'5ft': 4, '10ft': 83, '20ft': 5, '30ft': 6, '40a': 0, '40b': 0, '40c': 0, '40d': 2}\n",
      "{'5ft': 2, '10ft': 87, '20ft': 5, '30ft': 5, '40a': 0, '40b': 1, '40c': 0, '40d': 0}\n",
      "{'5ft': 6, '10ft': 86, '20ft': 2, '30ft': 5, '40a': 0, '40b': 0, '40c': 1, '40d': 0}\n",
      "{'5ft': 7, '10ft': 84, '20ft': 3, '30ft': 6, '40a': 0, '40b': 0, '40c': 0, '40d': 0}\n",
      "{'5ft': 7, '10ft': 83, '20ft': 5, '30ft': 5, '40a': 0, '40b': 0, '40c': 0, '40d': 0}\n",
      "{'5ft': 1, '10ft': 90, '20ft': 4, '30ft': 5, '40a': 0, '40b': 0, '40c': 0, '40d': 0}\n",
      "{'5ft': 7, '10ft': 89, '20ft': 1, '30ft': 3, '40a': 0, '40b': 0, '40c': 0, '40d': 0}\n",
      "{'5ft': 5, '10ft': 82, '20ft': 7, '30ft': 4, '40a': 1, '40b': 0, '40c': 0, '40d': 1}\n"
     ]
    }
   ],
   "source": [
    "for i in range(20):\n",
    "    simulation()"
   ]
  },
  {
   "cell_type": "code",
   "execution_count": null,
   "metadata": {},
   "outputs": [],
   "source": []
  }
 ],
 "metadata": {
  "kernelspec": {
   "display_name": "Python 3",
   "language": "python",
   "name": "python3"
  },
  "language_info": {
   "codemirror_mode": {
    "name": "ipython",
    "version": 3
   },
   "file_extension": ".py",
   "mimetype": "text/x-python",
   "name": "python",
   "nbconvert_exporter": "python",
   "pygments_lexer": "ipython3",
   "version": "3.7.4"
  }
 },
 "nbformat": 4,
 "nbformat_minor": 4
}
